{
 "cells": [
  {
   "cell_type": "code",
   "execution_count": 1,
   "metadata": {},
   "outputs": [],
   "source": [
    "import pandas as pd\n",
    "import numpy as np\n",
    "import matplotlib.pyplot as plt"
   ]
  },
  {
   "cell_type": "code",
   "execution_count": 82,
   "metadata": {},
   "outputs": [
    {
     "data": {
      "text/html": [
       "<div>\n",
       "<style scoped>\n",
       "    .dataframe tbody tr th:only-of-type {\n",
       "        vertical-align: middle;\n",
       "    }\n",
       "\n",
       "    .dataframe tbody tr th {\n",
       "        vertical-align: top;\n",
       "    }\n",
       "\n",
       "    .dataframe thead th {\n",
       "        text-align: right;\n",
       "    }\n",
       "</style>\n",
       "<table border=\"1\" class=\"dataframe\">\n",
       "  <thead>\n",
       "    <tr style=\"text-align: right;\">\n",
       "      <th></th>\n",
       "      <th>PassengerId</th>\n",
       "      <th>Survived</th>\n",
       "      <th>Pclass</th>\n",
       "      <th>Name</th>\n",
       "      <th>Sex</th>\n",
       "      <th>Age</th>\n",
       "      <th>SibSp</th>\n",
       "      <th>Parch</th>\n",
       "      <th>Ticket</th>\n",
       "      <th>Fare</th>\n",
       "      <th>Cabin</th>\n",
       "      <th>Embarked</th>\n",
       "    </tr>\n",
       "  </thead>\n",
       "  <tbody>\n",
       "    <tr>\n",
       "      <th>0</th>\n",
       "      <td>1</td>\n",
       "      <td>0</td>\n",
       "      <td>3</td>\n",
       "      <td>Braund, Mr. Owen Harris</td>\n",
       "      <td>male</td>\n",
       "      <td>22.0</td>\n",
       "      <td>1</td>\n",
       "      <td>0</td>\n",
       "      <td>A/5 21171</td>\n",
       "      <td>7.2500</td>\n",
       "      <td>NaN</td>\n",
       "      <td>S</td>\n",
       "    </tr>\n",
       "    <tr>\n",
       "      <th>1</th>\n",
       "      <td>2</td>\n",
       "      <td>1</td>\n",
       "      <td>1</td>\n",
       "      <td>Cumings, Mrs. John Bradley (Florence Briggs Th...</td>\n",
       "      <td>female</td>\n",
       "      <td>38.0</td>\n",
       "      <td>1</td>\n",
       "      <td>0</td>\n",
       "      <td>PC 17599</td>\n",
       "      <td>71.2833</td>\n",
       "      <td>C85</td>\n",
       "      <td>C</td>\n",
       "    </tr>\n",
       "    <tr>\n",
       "      <th>2</th>\n",
       "      <td>3</td>\n",
       "      <td>1</td>\n",
       "      <td>3</td>\n",
       "      <td>Heikkinen, Miss. Laina</td>\n",
       "      <td>female</td>\n",
       "      <td>26.0</td>\n",
       "      <td>0</td>\n",
       "      <td>0</td>\n",
       "      <td>STON/O2. 3101282</td>\n",
       "      <td>7.9250</td>\n",
       "      <td>NaN</td>\n",
       "      <td>S</td>\n",
       "    </tr>\n",
       "    <tr>\n",
       "      <th>3</th>\n",
       "      <td>4</td>\n",
       "      <td>1</td>\n",
       "      <td>1</td>\n",
       "      <td>Futrelle, Mrs. Jacques Heath (Lily May Peel)</td>\n",
       "      <td>female</td>\n",
       "      <td>35.0</td>\n",
       "      <td>1</td>\n",
       "      <td>0</td>\n",
       "      <td>113803</td>\n",
       "      <td>53.1000</td>\n",
       "      <td>C123</td>\n",
       "      <td>S</td>\n",
       "    </tr>\n",
       "    <tr>\n",
       "      <th>4</th>\n",
       "      <td>5</td>\n",
       "      <td>0</td>\n",
       "      <td>3</td>\n",
       "      <td>Allen, Mr. William Henry</td>\n",
       "      <td>male</td>\n",
       "      <td>35.0</td>\n",
       "      <td>0</td>\n",
       "      <td>0</td>\n",
       "      <td>373450</td>\n",
       "      <td>8.0500</td>\n",
       "      <td>NaN</td>\n",
       "      <td>S</td>\n",
       "    </tr>\n",
       "  </tbody>\n",
       "</table>\n",
       "</div>"
      ],
      "text/plain": [
       "   PassengerId  Survived  Pclass  \\\n",
       "0            1         0       3   \n",
       "1            2         1       1   \n",
       "2            3         1       3   \n",
       "3            4         1       1   \n",
       "4            5         0       3   \n",
       "\n",
       "                                                Name     Sex   Age  SibSp  \\\n",
       "0                            Braund, Mr. Owen Harris    male  22.0      1   \n",
       "1  Cumings, Mrs. John Bradley (Florence Briggs Th...  female  38.0      1   \n",
       "2                             Heikkinen, Miss. Laina  female  26.0      0   \n",
       "3       Futrelle, Mrs. Jacques Heath (Lily May Peel)  female  35.0      1   \n",
       "4                           Allen, Mr. William Henry    male  35.0      0   \n",
       "\n",
       "   Parch            Ticket     Fare Cabin Embarked  \n",
       "0      0         A/5 21171   7.2500   NaN        S  \n",
       "1      0          PC 17599  71.2833   C85        C  \n",
       "2      0  STON/O2. 3101282   7.9250   NaN        S  \n",
       "3      0            113803  53.1000  C123        S  \n",
       "4      0            373450   8.0500   NaN        S  "
      ]
     },
     "execution_count": 82,
     "metadata": {},
     "output_type": "execute_result"
    }
   ],
   "source": [
    "data = pd.read_csv('./train.csv')\n",
    "data.head()"
   ]
  },
  {
   "cell_type": "markdown",
   "metadata": {},
   "source": [
    "### Зависимость выживаемости от порта, в котором входил человек."
   ]
  },
  {
   "cell_type": "code",
   "execution_count": 161,
   "metadata": {},
   "outputs": [
    {
     "data": {
      "text/plain": [
       "Embarked\n",
       "C    0.553571\n",
       "Q    0.389610\n",
       "S    0.336957\n",
       "dtype: float64"
      ]
     },
     "execution_count": 161,
     "metadata": {},
     "output_type": "execute_result"
    }
   ],
   "source": [
    "data.groupby(['Embarked'])['Survived'].sum()/data.groupby(['Embarked'])['PassengerId'].nunique()"
   ]
  },
  {
   "cell_type": "markdown",
   "metadata": {},
   "source": [
    "Рассмотрим долю выживших от числа вошедших в каждом из портов. Кажется, что люди, из порта \"С\" выживают с большей вероятностью."
   ]
  },
  {
   "cell_type": "code",
   "execution_count": 112,
   "metadata": {},
   "outputs": [
    {
     "data": {
      "text/plain": [
       "Embarked\n",
       "C    0.188552\n",
       "Q    0.086420\n",
       "S    0.722783\n",
       "Name: PassengerId, dtype: float64"
      ]
     },
     "execution_count": 112,
     "metadata": {},
     "output_type": "execute_result"
    }
   ],
   "source": [
    "data.groupby(['Embarked'])['PassengerId'].nunique()/data['PassengerId'].nunique()"
   ]
  },
  {
   "cell_type": "markdown",
   "metadata": {},
   "source": [
    "Однако большинство людей вошли в \"S\" (более 72 %), поэтому искать зависимость от выживаемости от порта видимо не совсем коректно."
   ]
  },
  {
   "cell_type": "markdown",
   "metadata": {},
   "source": [
    "### Зависимость выживаемости от типа каюты."
   ]
  },
  {
   "cell_type": "code",
   "execution_count": 158,
   "metadata": {},
   "outputs": [
    {
     "data": {
      "text/plain": [
       "Cabin_type\n",
       "A     15\n",
       "B     47\n",
       "C     59\n",
       "D     33\n",
       "E     32\n",
       "F     13\n",
       "G      4\n",
       "T      1\n",
       "n    687\n",
       "Name: Name, dtype: int64"
      ]
     },
     "execution_count": 158,
     "metadata": {},
     "output_type": "execute_result"
    }
   ],
   "source": [
    "data['Cabin_type'] = data['Cabin'].apply(lambda x: str(x)[0])\n",
    "data.groupby(['Cabin_type'])['Name'].nunique()"
   ]
  },
  {
   "cell_type": "markdown",
   "metadata": {},
   "source": [
    "Видно, что у большинства людей на Титанике каюта осталась неизвестной (687 человек)"
   ]
  },
  {
   "cell_type": "code",
   "execution_count": 159,
   "metadata": {},
   "outputs": [
    {
     "data": {
      "text/plain": [
       "Cabin_type\n",
       "A    0.466667\n",
       "B    0.744681\n",
       "C    0.593220\n",
       "D    0.757576\n",
       "E    0.750000\n",
       "F    0.615385\n",
       "G    0.500000\n",
       "T    0.000000\n",
       "n    0.299854\n",
       "Name: Survived, dtype: float64"
      ]
     },
     "execution_count": 159,
     "metadata": {},
     "output_type": "execute_result"
    }
   ],
   "source": [
    "data.groupby(['Cabin_type'])['Survived'].mean()"
   ]
  },
  {
   "cell_type": "markdown",
   "metadata": {},
   "source": [
    "Лучшая выживаемость была в каютах D, E, B типов, вероятно это связано с их расположением."
   ]
  },
  {
   "cell_type": "markdown",
   "metadata": {},
   "source": [
    "### Зависимость выживаемости от пола, возраста и класса"
   ]
  },
  {
   "cell_type": "code",
   "execution_count": 80,
   "metadata": {},
   "outputs": [
    {
     "data": {
      "text/plain": [
       "Sex     Pclass  Age             \n",
       "female  1       (0.34, 8.378]       0.000000\n",
       "                (8.378, 16.336]     1.000000\n",
       "                (16.336, 24.294]    1.000000\n",
       "                (24.294, 32.252]    0.909091\n",
       "                (32.252, 40.21]     1.000000\n",
       "                (40.21, 48.168]     1.000000\n",
       "                (48.168, 56.126]    0.909091\n",
       "                (56.126, 64.084]    1.000000\n",
       "                (64.084, 72.042]         NaN\n",
       "                (72.042, 80.0]           NaN\n",
       "        2       (0.34, 8.378]       1.000000\n",
       "                (8.378, 16.336]     1.000000\n",
       "                (16.336, 24.294]    0.941176\n",
       "                (24.294, 32.252]    0.894737\n",
       "                (32.252, 40.21]     0.933333\n",
       "                (40.21, 48.168]     0.857143\n",
       "                (48.168, 56.126]    1.000000\n",
       "                (56.126, 64.084]    0.000000\n",
       "                (64.084, 72.042]         NaN\n",
       "                (72.042, 80.0]           NaN\n",
       "        3       (0.34, 8.378]       0.647059\n",
       "                (8.378, 16.336]     0.437500\n",
       "                (16.336, 24.294]    0.500000\n",
       "                (24.294, 32.252]    0.409091\n",
       "                (32.252, 40.21]     0.500000\n",
       "                (40.21, 48.168]     0.000000\n",
       "                (48.168, 56.126]         NaN\n",
       "                (56.126, 64.084]    1.000000\n",
       "                (64.084, 72.042]         NaN\n",
       "                (72.042, 80.0]           NaN\n",
       "male    1       (0.34, 8.378]       1.000000\n",
       "                (8.378, 16.336]     1.000000\n",
       "                (16.336, 24.294]    0.222222\n",
       "                (24.294, 32.252]    0.555556\n",
       "                (32.252, 40.21]     0.523810\n",
       "                (40.21, 48.168]     0.333333\n",
       "                (48.168, 56.126]    0.375000\n",
       "                (56.126, 64.084]    0.100000\n",
       "                (64.084, 72.042]    0.000000\n",
       "                (72.042, 80.0]      1.000000\n",
       "        2       (0.34, 8.378]       1.000000\n",
       "                (8.378, 16.336]     0.000000\n",
       "                (16.336, 24.294]    0.050000\n",
       "                (24.294, 32.252]    0.071429\n",
       "                (32.252, 40.21]     0.052632\n",
       "                (40.21, 48.168]     0.125000\n",
       "                (48.168, 56.126]    0.000000\n",
       "                (56.126, 64.084]    0.250000\n",
       "                (64.084, 72.042]    0.000000\n",
       "                (72.042, 80.0]           NaN\n",
       "        3       (0.34, 8.378]       0.352941\n",
       "                (8.378, 16.336]     0.200000\n",
       "                (16.336, 24.294]    0.100000\n",
       "                (24.294, 32.252]    0.239437\n",
       "                (32.252, 40.21]     0.029412\n",
       "                (40.21, 48.168]     0.100000\n",
       "                (48.168, 56.126]    0.000000\n",
       "                (56.126, 64.084]    0.000000\n",
       "                (64.084, 72.042]    0.000000\n",
       "                (72.042, 80.0]      0.000000\n",
       "Name: Survived, dtype: float64"
      ]
     },
     "execution_count": 80,
     "metadata": {},
     "output_type": "execute_result"
    }
   ],
   "source": [
    "data.groupby(['Sex', 'Pclass', pd.cut(data.Age, 10)])['Survived'].mean()"
   ]
  },
  {
   "cell_type": "code",
   "execution_count": 78,
   "metadata": {},
   "outputs": [
    {
     "data": {
      "image/png": "[encoded data removed]",
      "text/plain": [
       "<Figure size 864x288 with 3 Axes>"
      ]
     },
     "metadata": {
      "needs_background": "light"
     },
     "output_type": "display_data"
    }
   ],
   "source": [
    "fig, axes = plt.subplots(nrows=1, ncols=3, figsize=(12,4))\n",
    "\n",
    "pclass = 1\n",
    "for ax in axes:\n",
    "    ax.hist(data[(data.Sex == 'female') & (data.Pclass == pclass)].Age, range=(0, 80), edgecolor='white', label='total')\n",
    "    ax.hist(data[(data.Sex == 'female') & (data.Pclass == pclass) & (data.Survived == 0)].Age,\n",
    "            range=(0, 80), edgecolor='white', label='not survived')\n",
    "    \n",
    "    ax.set_xlabel('Age')\n",
    "    ax.set_ylabel('female number')\n",
    "    ax.set_title(str(pclass)+' '+'class' )\n",
    "    ax.legend(loc='upper right')\n",
    "    pclass += 1\n",
    "    \n",
    "\n",
    "plt.tight_layout()\n"
   ]
  },
  {
   "cell_type": "markdown",
   "metadata": {},
   "source": [
    "Видим, что фактически независимо от возраста вероятность выжить у женщин в первых двух классах очень высокая (более 83% для любого возраста). Вцелом выживаемость в третьем классе для женцин значительно хуже, чем в первых двух.Заметим, что в возрасте до 9 лет выживаемость лучше (доля выживших > 64%), чем для женщин в 3 классе вцелом."
   ]
  },
  {
   "cell_type": "code",
   "execution_count": 79,
   "metadata": {},
   "outputs": [
    {
     "data": {
      "image/png": "[encoded data removed]",
      "text/plain": [
       "<Figure size 864x288 with 3 Axes>"
      ]
     },
     "metadata": {
      "needs_background": "light"
     },
     "output_type": "display_data"
    }
   ],
   "source": [
    "fig, axes = plt.subplots(nrows=1, ncols=3, figsize=(12,4))\n",
    "\n",
    "pclass = 1\n",
    "for ax in axes:\n",
    "    ax.hist(data[(data.Sex == 'male') & (data.Pclass == pclass)].Age, range=(0, 80), edgecolor='white', label='total')\n",
    "    ax.hist(data[(data.Sex == 'male') & (data.Pclass == pclass) & (data.Survived == 0)].Age,\n",
    "            range=(0, 80), edgecolor='white', label='not survived')\n",
    "    \n",
    "    ax.set_xlabel('Age')\n",
    "    ax.set_ylabel('male number')\n",
    "    ax.set_title(str(pclass)+' '+'class' )\n",
    "    ax.legend(loc='upper right')\n",
    "    pclass += 1\n",
    "    \n",
    "\n",
    "plt.tight_layout()"
   ]
  },
  {
   "cell_type": "markdown",
   "metadata": {},
   "source": [
    "Видим очень низкую выживаемость для 2 и 3 класса фактически не зависимо от возраста.В 1 классе для мужчин ситуация получше(лучшая возрастная категория для выживания 24-41, доля выживших для них чуть более 50 %)\n"
   ]
  },
  {
   "cell_type": "markdown",
   "metadata": {},
   "source": [
    "Итог: в самом лучем положениии - женщины 16-24 в 1 либо 2 классе"
   ]
  }
 ],
 "metadata": {
  "kernelspec": {
   "display_name": "Python 3",
   "language": "python",
   "name": "python3"
  },
  "language_info": {
   "codemirror_mode": {
    "name": "ipython",
    "version": 3
   },
   "file_extension": ".py",
   "mimetype": "text/x-python",
   "name": "python",
   "nbconvert_exporter": "python",
   "pygments_lexer": "ipython3",
   "version": "3.8.5"
  }
 },
 "nbformat": 4,
 "nbformat_minor": 4
}
